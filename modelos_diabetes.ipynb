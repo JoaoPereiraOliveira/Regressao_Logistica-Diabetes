{
  "nbformat": 4,
  "nbformat_minor": 0,
  "metadata": {
    "colab": {
      "provenance": []
    },
    "kernelspec": {
      "name": "python3",
      "display_name": "Python 3"
    },
    "language_info": {
      "name": "python"
    }
  },
  "cells": [
    {
      "cell_type": "code",
      "execution_count": 83,
      "metadata": {
        "id": "l8wq8zmoYQII"
      },
      "outputs": [],
      "source": [
        "import numpy as np\n",
        "import pandas as pd\n",
        "import seaborn as sns\n",
        "import matplotlib.pyplot as plt\n",
        "import seaborn as sns\n",
        "import os\n",
        "from termcolor import colored\n",
        "from scipy import stats\n",
        "import plotly.express as px\n",
        "from plotly.figure_factory import create_scatterplotmatrix\n",
        "from sklearn.linear_model import LogisticRegression\n",
        "from sklearn.model_selection import train_test_split\n",
        "from sklearn.preprocessing import StandardScaler\n",
        "from sklearn import metrics\n",
        "from sklearn.metrics import confusion_matrix\n",
        "from sklearn.metrics import recall_score\n",
        "from sklearn.metrics import precision_score\n",
        "from sklearn.metrics import accuracy_score\n",
        "import statsmodels.api as sm\n",
        "import statsmodels.formula.api as smf"
      ]
    },
    {
      "cell_type": "code",
      "source": [
        "data = pd.read_csv(\"/content/diabetes_data.csv\")\n",
        "\n",
        "X = data.drop('Diabetes', axis=1)\n",
        "y = data['Diabetes']\n",
        "\n",
        "X_train, X_test, y_train, y_test = train_test_split(X, y, test_size=0.3)\n",
        "\n",
        "data_train = pd.concat([X_train, y_train], axis=1)\n",
        "data_test = pd.concat([X_test, y_test], axis=1)"
      ],
      "metadata": {
        "id": "Q_BkkpZQk8xU"
      },
      "execution_count": 116,
      "outputs": []
    },
    {
      "cell_type": "code",
      "source": [
        "model1 = LogisticRegression()\n",
        "\n",
        "model1.fit(X_train, y_train)\n",
        "\n",
        "y_pred = model1.predict(X_test)\n",
        "\n",
        "print('Recall: ', recall_score(y_test, y_pred))\n",
        "print('Precision: ', precision_score(y_test, y_pred))\n",
        "print('Accuracy: ', accuracy_score(y_test, y_pred))\n",
        "\n",
        "confusion_matrix(y_test, y_pred)"
      ],
      "metadata": {
        "colab": {
          "base_uri": "https://localhost:8080/"
        },
        "id": "1O9CXP1WZKJ5",
        "outputId": "9e3a3427-c94f-4634-e9da-a5d55a5338a8"
      },
      "execution_count": 117,
      "outputs": [
        {
          "output_type": "stream",
          "name": "stdout",
          "text": [
            "Recall:  0.7753155680224404\n",
            "Precision:  0.7410187667560322\n",
            "Accuracy:  0.7500471520181063\n"
          ]
        },
        {
          "output_type": "stream",
          "name": "stderr",
          "text": [
            "/usr/local/lib/python3.10/dist-packages/sklearn/linear_model/_logistic.py:458: ConvergenceWarning: lbfgs failed to converge (status=1):\n",
            "STOP: TOTAL NO. of ITERATIONS REACHED LIMIT.\n",
            "\n",
            "Increase the number of iterations (max_iter) or scale the data as shown in:\n",
            "    https://scikit-learn.org/stable/modules/preprocessing.html\n",
            "Please also refer to the documentation for alternative solver options:\n",
            "    https://scikit-learn.org/stable/modules/linear_model.html#logistic-regression\n",
            "  n_iter_i = _check_optimize_result(\n"
          ]
        },
        {
          "output_type": "execute_result",
          "data": {
            "text/plain": [
              "array([[7615, 2898],\n",
              "       [2403, 8292]])"
            ]
          },
          "metadata": {},
          "execution_count": 117
        }
      ]
    },
    {
      "cell_type": "code",
      "source": [
        "model2 = smf.glm(formula = 'Diabetes ~ Age + Sex + HighChol + CholCheck + BMI + Smoker + HeartDiseaseorAttack + PhysActivity + Fruits + Veggies + HvyAlcoholConsump + GenHlth + MentHlth + PhysHlth + DiffWalk + Stroke + HighBP', data = data_train, family=sm.families.Binomial()).fit()\n",
        "\n",
        "y_proba = model2.predict(data_test)\n",
        "y_pred = y_proba.apply(lambda x: 1 if x > 0.5 else 0)\n",
        "\n",
        "print('Recall: ', recall_score(data_test['Diabetes'], y_pred))\n",
        "print('Precision: ', precision_score(data_test['Diabetes'], y_pred))\n",
        "print('Accuracy: ', accuracy_score(data_test['Diabetes'], y_pred))\n",
        "\n",
        "confusion_matrix(y_test, y_pred)"
      ],
      "metadata": {
        "colab": {
          "base_uri": "https://localhost:8080/"
        },
        "id": "1Hg9GIwMJ7Ly",
        "outputId": "c39b89cc-dd4f-4eee-8241-e11a327b865a"
      },
      "execution_count": 118,
      "outputs": [
        {
          "output_type": "stream",
          "name": "stdout",
          "text": [
            "Recall:  0.7785881252921926\n",
            "Precision:  0.7455457068672218\n",
            "Accuracy:  0.7543379856657865\n"
          ]
        },
        {
          "output_type": "execute_result",
          "data": {
            "text/plain": [
              "array([[7671, 2842],\n",
              "       [2368, 8327]])"
            ]
          },
          "metadata": {},
          "execution_count": 118
        }
      ]
    },
    {
      "cell_type": "code",
      "source": [
        "model3 = smf.glm(formula = 'Diabetes ~ Age + HighChol + BMI + HeartDiseaseorAttack + PhysActivity + GenHlth + PhysHlth + DiffWalk + HighBP', data = data_train, family=sm.families.Binomial()).fit()\n",
        "\n",
        "y_proba = model3.predict(data_test)\n",
        "y_pred = y_proba.apply(lambda x: 1 if x > 0.5 else 0)\n",
        "\n",
        "print('Recall: ', recall_score(data_test['Diabetes'], y_pred))\n",
        "print('Precision: ', precision_score(data_test['Diabetes'], y_pred))\n",
        "print('Accuracy: ', accuracy_score(data_test['Diabetes'], y_pred))\n",
        "\n",
        "confusion_matrix(y_test, y_pred)"
      ],
      "metadata": {
        "colab": {
          "base_uri": "https://localhost:8080/"
        },
        "id": "UH1Aat5VMsZL",
        "outputId": "54cc0799-0f3a-4ceb-ab07-a6f816e1d7f8"
      },
      "execution_count": 119,
      "outputs": [
        {
          "output_type": "stream",
          "name": "stdout",
          "text": [
            "Recall:  0.7752220663861618\n",
            "Precision:  0.7409294012511171\n",
            "Accuracy:  0.7499528479818937\n"
          ]
        },
        {
          "output_type": "execute_result",
          "data": {
            "text/plain": [
              "array([[7614, 2899],\n",
              "       [2404, 8291]])"
            ]
          },
          "metadata": {},
          "execution_count": 119
        }
      ]
    },
    {
      "cell_type": "code",
      "source": [
        "model4 = smf.glm(formula = 'Diabetes ~ Age + HighChol + CholCheck + BMI + HeartDiseaseorAttack + PhysActivity + GenHlth + PhysHlth + DiffWalk + Stroke + HighBP', data = data_train, family=sm.families.Binomial()).fit()\n",
        "\n",
        "y_proba = model4.predict(data_test)\n",
        "y_pred = y_proba.apply(lambda x: 1 if x > 0.5 else 0)\n",
        "\n",
        "print('Recall: ', recall_score(data_test['Diabetes'], y_pred))\n",
        "print('Precision: ', precision_score(data_test['Diabetes'], y_pred))\n",
        "print('Accuracy: ', accuracy_score(data_test['Diabetes'], y_pred))\n",
        "\n",
        "confusion_matrix(y_test, y_pred)"
      ],
      "metadata": {
        "colab": {
          "base_uri": "https://localhost:8080/"
        },
        "id": "coQsZA_0M-21",
        "outputId": "0e0efcc0-ce53-4d86-ca0f-73775d47267d"
      },
      "execution_count": 96,
      "outputs": [
        {
          "output_type": "stream",
          "name": "stdout",
          "text": [
            "Recall:  0.766195856873823\n",
            "Precision:  0.7389882844428299\n",
            "Accuracy:  0.7474066390041494\n"
          ]
        },
        {
          "output_type": "execute_result",
          "data": {
            "text/plain": [
              "array([[7714, 2874],\n",
              "       [2483, 8137]])"
            ]
          },
          "metadata": {},
          "execution_count": 96
        }
      ]
    },
    {
      "cell_type": "code",
      "source": [
        "model5 = smf.glm(formula = 'Diabetes ~ Age + HighChol + BMI + HeartDiseaseorAttack + PhysActivity + GenHlth*PhysHlth + DiffWalk + HighBP', data = data_train, family=sm.families.Binomial()).fit()\n",
        "\n",
        "y_proba = model5.predict(data_test)\n",
        "y_pred = y_proba.apply(lambda x: 1 if x > 0.5 else 0)\n",
        "\n",
        "print('Recall: ', recall_score(data_test['Diabetes'], y_pred))\n",
        "print('Precision: ', precision_score(data_test['Diabetes'], y_pred))\n",
        "print('Accuracy: ', accuracy_score(data_test['Diabetes'], y_pred))\n",
        "\n",
        "confusion_matrix(y_test, y_pred)"
      ],
      "metadata": {
        "colab": {
          "base_uri": "https://localhost:8080/"
        },
        "id": "3OUCKl3yjiDj",
        "outputId": "ddffa0d5-f0ef-4846-eab9-2c17f2f6f997"
      },
      "execution_count": 95,
      "outputs": [
        {
          "output_type": "stream",
          "name": "stdout",
          "text": [
            "Recall:  0.7657250470809793\n",
            "Precision:  0.7362607514712539\n",
            "Accuracy:  0.7453319502074689\n"
          ]
        },
        {
          "output_type": "execute_result",
          "data": {
            "text/plain": [
              "array([[7675, 2913],\n",
              "       [2488, 8132]])"
            ]
          },
          "metadata": {},
          "execution_count": 95
        }
      ]
    },
    {
      "cell_type": "code",
      "source": [
        "model6 = smf.glm(formula = 'Diabetes ~ Age + HighChol + CholCheck + BMI + Smoker + HeartDiseaseorAttack + PhysActivity + Veggies + HvyAlcoholConsump + GenHlth + MentHlth + PhysHlth + DiffWalk + Stroke + HighBP', data = data_train, family=sm.families.Binomial()).fit()\n",
        "\n",
        "y_proba = model6.predict(data_test)\n",
        "y_pred = y_proba.apply(lambda x: 1 if x > 0.5 else 0)\n",
        "\n",
        "print('Recall: ', recall_score(data_test['Diabetes'], y_pred))\n",
        "print('Precision: ', precision_score(data_test['Diabetes'], y_pred))\n",
        "print('Accuracy: ', accuracy_score(data_test['Diabetes'], y_pred))\n",
        "\n",
        "confusion_matrix(y_test, y_pred)"
      ],
      "metadata": {
        "colab": {
          "base_uri": "https://localhost:8080/"
        },
        "id": "G1HpgBZBsVnw",
        "outputId": "71bbb4c1-65e4-43a8-a119-7aa0a517e5cf"
      },
      "execution_count": 94,
      "outputs": [
        {
          "output_type": "stream",
          "name": "stdout",
          "text": [
            "Recall:  0.7670433145009417\n",
            "Precision:  0.7400072674418605\n",
            "Accuracy:  0.7483968313843833\n"
          ]
        },
        {
          "output_type": "execute_result",
          "data": {
            "text/plain": [
              "array([[7726, 2862],\n",
              "       [2474, 8146]])"
            ]
          },
          "metadata": {},
          "execution_count": 94
        }
      ]
    },
    {
      "cell_type": "code",
      "source": [
        "model7 = smf.glm(formula = 'Diabetes ~ Age + HighChol + BMI + HeartDiseaseorAttack + PhysActivity + GenHlth + PhysHlth + DiffWalk + HighBP', data = data_train, family=sm.families.Binomial()).fit()\n",
        "\n",
        "y_proba = model7.predict(data_test)\n",
        "y_pred = y_proba.apply(lambda x: 1 if x > 0.5 else 0)\n",
        "\n",
        "print('Recall: ', recall_score(data_test['Diabetes'], y_pred))\n",
        "print('Precision: ', precision_score(data_test['Diabetes'], y_pred))\n",
        "print('Accuracy: ', accuracy_score(data_test['Diabetes'], y_pred))\n",
        "\n",
        "confusion_matrix(y_test, y_pred)"
      ],
      "metadata": {
        "colab": {
          "base_uri": "https://localhost:8080/"
        },
        "id": "6Vrq3VrVzdCv",
        "outputId": "06abf7c6-f430-4f0b-9be9-8787f8664946"
      },
      "execution_count": 122,
      "outputs": [
        {
          "output_type": "stream",
          "name": "stdout",
          "text": [
            "Recall:  0.7752220663861618\n",
            "Precision:  0.7409294012511171\n",
            "Accuracy:  0.7499528479818937\n"
          ]
        },
        {
          "output_type": "execute_result",
          "data": {
            "text/plain": [
              "array([[7614, 2899],\n",
              "       [2404, 8291]])"
            ]
          },
          "metadata": {},
          "execution_count": 122
        }
      ]
    }
  ]
}