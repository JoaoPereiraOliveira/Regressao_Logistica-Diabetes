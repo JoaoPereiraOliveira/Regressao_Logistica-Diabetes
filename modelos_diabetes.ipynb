{
  "nbformat": 4,
  "nbformat_minor": 0,
  "metadata": {
    "colab": {
      "provenance": []
    },
    "kernelspec": {
      "name": "python3",
      "display_name": "Python 3"
    },
    "language_info": {
      "name": "python"
    }
  },
  "cells": [
    {
      "cell_type": "code",
      "execution_count": 1,
      "metadata": {
        "id": "l8wq8zmoYQII"
      },
      "outputs": [],
      "source": [
        "import numpy as np\n",
        "import pandas as pd\n",
        "import seaborn as sns\n",
        "import matplotlib.pyplot as plt\n",
        "import seaborn as sns\n",
        "import os\n",
        "from termcolor import colored\n",
        "from scipy import stats\n",
        "import plotly.express as px\n",
        "from plotly.figure_factory import create_scatterplotmatrix\n",
        "from sklearn.linear_model import LogisticRegression\n",
        "from sklearn.model_selection import train_test_split\n",
        "from sklearn.preprocessing import StandardScaler\n",
        "from sklearn import metrics\n",
        "from sklearn.metrics import confusion_matrix\n",
        "from sklearn.metrics import recall_score\n",
        "from sklearn.metrics import precision_score\n",
        "from sklearn.metrics import accuracy_score\n",
        "import statsmodels.api as sm\n",
        "import statsmodels.formula.api as smf\n",
        "\n",
        "data = pd.read_csv(\"/content/diabetes_data.csv\")"
      ]
    },
    {
      "cell_type": "code",
      "source": [
        "X = data.drop('Diabetes', axis=1)\n",
        "y = data['Diabetes']\n",
        "\n",
        "X_train, X_test, y_train, y_test = train_test_split(X, y, test_size=0.3)\n",
        "\n",
        "data_train = pd.concat([X_train, y_train], axis=1)\n",
        "data_test = pd.concat([X_test, y_test], axis=1)"
      ],
      "metadata": {
        "id": "Q_BkkpZQk8xU"
      },
      "execution_count": 3,
      "outputs": []
    },
    {
      "cell_type": "code",
      "source": [
        "## Modelo com todas as covariáveis\n",
        "\n",
        "model1 = smf.glm(formula = 'Diabetes ~ Age + Sex + HighChol + CholCheck + BMI + Smoker + HeartDiseaseorAttack + PhysActivity + Fruits + Veggies + HvyAlcoholConsump + GenHlth + MentHlth + PhysHlth + DiffWalk + Stroke + HighBP', data = data_train, family=sm.families.Binomial()).fit()\n",
        "\n",
        "y_proba = model1.predict(data_test)\n",
        "y_pred = y_proba.apply(lambda x: 1 if x > 0.5 else 0)\n",
        "\n",
        "print('Recall modelo 1: ', recall_score(data_test['Diabetes'], y_pred))\n",
        "print('Precision modelo 1: ', precision_score(data_test['Diabetes'], y_pred))\n",
        "print('Accuracy modelo 1: ', accuracy_score(data_test['Diabetes'], y_pred))\n",
        "\n",
        "confusion_matrix(y_test, y_pred)\n",
        "\n",
        "print(model1.summary())"
      ],
      "metadata": {
        "colab": {
          "base_uri": "https://localhost:8080/"
        },
        "id": "1Hg9GIwMJ7Ly",
        "outputId": "e9ce6afe-38f2-45d3-bb76-4fe149e36179"
      },
      "execution_count": 5,
      "outputs": [
        {
          "output_type": "stream",
          "name": "stdout",
          "text": [
            "Recall modelo 1:  0.7696046359472848\n",
            "Precision modelo 1:  0.7440137345260684\n",
            "Accuracy modelo 1:  0.7501886080724255\n",
            "                 Generalized Linear Model Regression Results                  \n",
            "==============================================================================\n",
            "Dep. Variable:               Diabetes   No. Observations:                49484\n",
            "Model:                            GLM   Df Residuals:                    49466\n",
            "Model Family:                Binomial   Df Model:                           17\n",
            "Link Function:                  Logit   Scale:                          1.0000\n",
            "Method:                          IRLS   Log-Likelihood:                -25391.\n",
            "Date:                Mon, 10 Jun 2024   Deviance:                       50782.\n",
            "Time:                        12:37:57   Pearson chi2:                 5.11e+04\n",
            "No. Iterations:                     5   Pseudo R-squ. (CS):             0.3024\n",
            "Covariance Type:            nonrobust                                         \n",
            "========================================================================================\n",
            "                           coef    std err          z      P>|z|      [0.025      0.975]\n",
            "----------------------------------------------------------------------------------------\n",
            "Intercept               -7.3423      0.130    -56.333      0.000      -7.598      -7.087\n",
            "Age                      0.1546      0.005     33.747      0.000       0.146       0.164\n",
            "Sex                      0.2198      0.022      9.785      0.000       0.176       0.264\n",
            "HighChol                 0.5900      0.022     26.231      0.000       0.546       0.634\n",
            "CholCheck                1.3241      0.096     13.727      0.000       1.135       1.513\n",
            "BMI                      0.0751      0.002     39.945      0.000       0.071       0.079\n",
            "Smoker                   0.0250      0.022      1.117      0.264      -0.019       0.069\n",
            "HeartDiseaseorAttack     0.2667      0.034      7.821      0.000       0.200       0.333\n",
            "PhysActivity            -0.0424      0.025     -1.679      0.093      -0.092       0.007\n",
            "Fruits                  -0.0380      0.023     -1.626      0.104      -0.084       0.008\n",
            "Veggies                 -0.1129      0.028     -4.073      0.000      -0.167      -0.059\n",
            "HvyAlcoholConsump       -0.7837      0.058    -13.507      0.000      -0.897      -0.670\n",
            "GenHlth                  0.6102      0.013     45.557      0.000       0.584       0.636\n",
            "MentHlth                -0.0032      0.002     -2.088      0.037      -0.006      -0.000\n",
            "PhysHlth                -0.0080      0.001     -5.633      0.000      -0.011      -0.005\n",
            "DiffWalk                 0.1744      0.030      5.726      0.000       0.115       0.234\n",
            "Stroke                   0.2329      0.049      4.747      0.000       0.137       0.329\n",
            "HighBP                   0.7426      0.024     31.524      0.000       0.696       0.789\n",
            "========================================================================================\n"
          ]
        }
      ]
    },
    {
      "cell_type": "code",
      "source": [
        "## Modelo com as covariáveis que possuem valor absoluto de correlação maiores que 0.15\n",
        "\n",
        "model2 = smf.glm(formula = 'Diabetes ~ Age + HighChol + BMI + HeartDiseaseorAttack + PhysActivity + GenHlth + PhysHlth + DiffWalk + HighBP', data = data_train, family=sm.families.Binomial()).fit()\n",
        "\n",
        "y_proba = model2.predict(data_test)\n",
        "y_pred = y_proba.apply(lambda x: 1 if x > 0.5 else 0)\n",
        "\n",
        "print('Recall modelo 2: ', recall_score(data_test['Diabetes'], y_pred))\n",
        "print('Precision modelo 2: ', precision_score(data_test['Diabetes'], y_pred))\n",
        "print('Accuracy modelo 2: ', accuracy_score(data_test['Diabetes'], y_pred))\n",
        "\n",
        "confusion_matrix(y_test, y_pred)"
      ],
      "metadata": {
        "colab": {
          "base_uri": "https://localhost:8080/"
        },
        "id": "UH1Aat5VMsZL",
        "outputId": "a4458994-1540-4d82-95e5-a10a3294f7fb"
      },
      "execution_count": 6,
      "outputs": [
        {
          "output_type": "stream",
          "name": "stdout",
          "text": [
            "Recall modelo 2:  0.7653986353864847\n",
            "Precision modelo 2:  0.7407507914970601\n",
            "Accuracy modelo 2:  0.7465107506601283\n"
          ]
        },
        {
          "output_type": "execute_result",
          "data": {
            "text/plain": [
              "array([[7643, 2866],\n",
              "       [2510, 8189]])"
            ]
          },
          "metadata": {},
          "execution_count": 6
        }
      ]
    },
    {
      "cell_type": "code",
      "source": [
        "## Modelo com as covariáveis que possuem valor absoluto de correlação maiores que 0.1\n",
        "\n",
        "model3 = smf.glm(formula = 'Diabetes ~ Age + HighChol + CholCheck + BMI + HeartDiseaseorAttack + PhysActivity + GenHlth + PhysHlth + DiffWalk + Stroke + HighBP', data = data_train, family=sm.families.Binomial()).fit()\n",
        "\n",
        "y_proba = model3.predict(data_test)\n",
        "y_pred = y_proba.apply(lambda x: 1 if x > 0.5 else 0)\n",
        "\n",
        "print('Recall modelo 3: ', recall_score(data_test['Diabetes'], y_pred))\n",
        "print('Precision modelo 3: ', precision_score(data_test['Diabetes'], y_pred))\n",
        "print('Accuracy modelo 3: ', accuracy_score(data_test['Diabetes'], y_pred))\n",
        "\n",
        "confusion_matrix(y_test, y_pred)"
      ],
      "metadata": {
        "colab": {
          "base_uri": "https://localhost:8080/"
        },
        "id": "coQsZA_0M-21",
        "outputId": "8127858e-7dda-415e-d624-3588ef6a4e49"
      },
      "execution_count": 7,
      "outputs": [
        {
          "output_type": "stream",
          "name": "stdout",
          "text": [
            "Recall modelo 3:  0.7678287690438359\n",
            "Precision modelo 3:  0.7417607223476298\n",
            "Accuracy modelo 3:  0.7480196152395322\n"
          ]
        },
        {
          "output_type": "execute_result",
          "data": {
            "text/plain": [
              "array([[7649, 2860],\n",
              "       [2484, 8215]])"
            ]
          },
          "metadata": {},
          "execution_count": 7
        }
      ]
    },
    {
      "cell_type": "code",
      "source": [
        "## Modelo com as covariáveis que possuem valor absoluto de correlação maiores que 0.15 e considerando a alta correlação de GenHlth e PhysHlth\n",
        "\n",
        "model4 = smf.glm(formula = 'Diabetes ~ Age + HighChol + BMI + HeartDiseaseorAttack + PhysActivity + GenHlth*PhysHlth + DiffWalk + HighBP', data = data_train, family=sm.families.Binomial()).fit()\n",
        "\n",
        "y_proba = model4.predict(data_test)\n",
        "y_pred = y_proba.apply(lambda x: 1 if x > 0.5 else 0)\n",
        "\n",
        "print('Recall modelo 4: ', recall_score(data_test['Diabetes'], y_pred))\n",
        "print('Precision modelo 4: ', precision_score(data_test['Diabetes'], y_pred))\n",
        "print('Accuracy modelo 4: ', accuracy_score(data_test['Diabetes'], y_pred))\n",
        "\n",
        "confusion_matrix(y_test, y_pred)"
      ],
      "metadata": {
        "colab": {
          "base_uri": "https://localhost:8080/"
        },
        "id": "3OUCKl3yjiDj",
        "outputId": "63a9c4ef-3d03-41c7-e8aa-286afe50b84a"
      },
      "execution_count": 8,
      "outputs": [
        {
          "output_type": "stream",
          "name": "stdout",
          "text": [
            "Recall modelo 4:  0.7692307692307693\n",
            "Precision modelo 4:  0.7402410505486599\n",
            "Accuracy modelo 4:  0.7474066390041494\n"
          ]
        },
        {
          "output_type": "execute_result",
          "data": {
            "text/plain": [
              "array([[7621, 2888],\n",
              "       [2469, 8230]])"
            ]
          },
          "metadata": {},
          "execution_count": 8
        }
      ]
    },
    {
      "cell_type": "code",
      "source": [
        "## Modelo com as covariáveis que possuem valor absoluto de correlação maiores que 0.07\n",
        "\n",
        "model5 = smf.glm(formula = 'Diabetes ~ Age + HighChol + CholCheck + BMI + Smoker + HeartDiseaseorAttack + PhysActivity + Veggies + HvyAlcoholConsump + GenHlth + MentHlth + PhysHlth + DiffWalk + Stroke + HighBP', data = data_train, family=sm.families.Binomial()).fit()\n",
        "\n",
        "y_proba = model5.predict(data_test)\n",
        "y_pred = y_proba.apply(lambda x: 1 if x > 0.5 else 0)\n",
        "\n",
        "print('Recall modelo 5: ', recall_score(data_test['Diabetes'], y_pred))\n",
        "print('Precision modelo 5: ', precision_score(data_test['Diabetes'], y_pred))\n",
        "print('Accuracy modelo 5: ', accuracy_score(data_test['Diabetes'], y_pred))\n",
        "\n",
        "confusion_matrix(y_test, y_pred)"
      ],
      "metadata": {
        "colab": {
          "base_uri": "https://localhost:8080/"
        },
        "id": "G1HpgBZBsVnw",
        "outputId": "4a7cb46f-0c5f-469e-fc00-7788069bc2f6"
      },
      "execution_count": 9,
      "outputs": [
        {
          "output_type": "stream",
          "name": "stdout",
          "text": [
            "Recall modelo 5:  0.7681091690812225\n",
            "Precision modelo 5:  0.7434412882214583\n",
            "Accuracy modelo 5:  0.7492927197284044\n"
          ]
        },
        {
          "output_type": "execute_result",
          "data": {
            "text/plain": [
              "array([[7673, 2836],\n",
              "       [2481, 8218]])"
            ]
          },
          "metadata": {},
          "execution_count": 9
        }
      ]
    },
    {
      "cell_type": "code",
      "source": [
        "## Modelo com as covariáveis que possuem valor absoluto de correlação maiores que 0.07 e considerando a alta correlação de GenHlth e PhysHlth\n",
        "\n",
        "model6 = smf.glm(formula = 'Diabetes ~ Age + HighChol + CholCheck + BMI + Smoker + HeartDiseaseorAttack + PhysActivity + Veggies + HvyAlcoholConsump + MentHlth + GenHlth*PhysHlth + DiffWalk + Stroke + HighBP', data = data_train, family=sm.families.Binomial()).fit()\n",
        "\n",
        "y_proba = model6.predict(data_test)\n",
        "y_pred = y_proba.apply(lambda x: 1 if x > 0.5 else 0)\n",
        "\n",
        "print('Recall modelo 6: ', recall_score(data_test['Diabetes'], y_pred))\n",
        "print('Precision modelo 6: ', precision_score(data_test['Diabetes'], y_pred))\n",
        "print('Accuracy modelo 6: ', accuracy_score(data_test['Diabetes'], y_pred))\n",
        "\n",
        "confusion_matrix(y_test, y_pred)"
      ],
      "metadata": {
        "colab": {
          "base_uri": "https://localhost:8080/"
        },
        "id": "6Vrq3VrVzdCv",
        "outputId": "236c24bd-4741-4ebb-ba76-69b2d02eb8de"
      },
      "execution_count": 10,
      "outputs": [
        {
          "output_type": "stream",
          "name": "stdout",
          "text": [
            "Recall modelo 6:  0.7731563697541827\n",
            "Precision modelo 6:  0.7425493716337522\n",
            "Accuracy modelo 6:  0.7503300641267446\n"
          ]
        },
        {
          "output_type": "execute_result",
          "data": {
            "text/plain": [
              "array([[7641, 2868],\n",
              "       [2427, 8272]])"
            ]
          },
          "metadata": {},
          "execution_count": 10
        }
      ]
    },
    {
      "cell_type": "code",
      "source": [
        "## Modelo com as covariáveis que possuem valor absoluto de correlação maiores que 0.07 e considerando a alta correlação de GenHlth, PhysHlth e DiffWalk\n",
        "\n",
        "model8 = smf.glm(formula = 'Diabetes ~ Age + HighChol + CholCheck + BMI + Smoker + HeartDiseaseorAttack + PhysActivity + Veggies + HvyAlcoholConsump + MentHlth + GenHlth*PhysHlth*DiffWalk + Stroke + HighBP', data = data_train, family=sm.families.Binomial()).fit()\n",
        "\n",
        "y_proba = model8.predict(data_test)\n",
        "y_pred = y_proba.apply(lambda x: 1 if x > 0.5 else 0)\n",
        "\n",
        "print('Recall modelo 8: ', recall_score(data_test['Diabetes'], y_pred))\n",
        "print('Precision modelo 8: ', precision_score(data_test['Diabetes'], y_pred))\n",
        "print('Accuracy modelo 8: ', accuracy_score(data_test['Diabetes'], y_pred))\n",
        "\n",
        "confusion_matrix(y_test, y_pred)"
      ],
      "metadata": {
        "colab": {
          "base_uri": "https://localhost:8080/"
        },
        "id": "Wcc90ivlBo49",
        "outputId": "29878db4-b861-49bd-ad50-3bc5598b3c69"
      },
      "execution_count": 11,
      "outputs": [
        {
          "output_type": "stream",
          "name": "stdout",
          "text": [
            "Recall modelo 8:  0.774558369941116\n",
            "Precision modelo 8:  0.7413669708355699\n",
            "Accuracy modelo 8:  0.7499528479818937\n"
          ]
        },
        {
          "output_type": "execute_result",
          "data": {
            "text/plain": [
              "array([[7618, 2891],\n",
              "       [2412, 8287]])"
            ]
          },
          "metadata": {},
          "execution_count": 11
        }
      ]
    },
    {
      "cell_type": "code",
      "source": [
        "## Modelo com as covariáveis que possuem valor absoluto de correlação maiores que 0.07 e considerando a alta correlação de GenHlth, PhysHlth, DiffWalk e MentHlth\n",
        "\n",
        "model9 = smf.glm(formula = 'Diabetes ~ Age + HighChol + CholCheck + BMI + Smoker + HeartDiseaseorAttack + PhysActivity + Veggies + HvyAlcoholConsump + MentHlth*GenHlth*PhysHlth*DiffWalk + Stroke + HighBP', data = data_train, family=sm.families.Binomial()).fit()\n",
        "\n",
        "y_proba = model9.predict(data_test)\n",
        "y_pred = y_proba.apply(lambda x: 1 if x > 0.5 else 0)\n",
        "\n",
        "print('Recall modelo 9: ', recall_score(data_test['Diabetes'], y_pred))\n",
        "print('Precision modelo 9: ', precision_score(data_test['Diabetes'], y_pred))\n",
        "print('Accuracy modelo 9: ', accuracy_score(data_test['Diabetes'], y_pred))\n",
        "\n",
        "confusion_matrix(y_test, y_pred)"
      ],
      "metadata": {
        "colab": {
          "base_uri": "https://localhost:8080/"
        },
        "id": "nX_JQF-JB9QJ",
        "outputId": "83610d29-7a11-453e-8b3f-c2a1a25c0118"
      },
      "execution_count": 12,
      "outputs": [
        {
          "output_type": "stream",
          "name": "stdout",
          "text": [
            "Recall modelo 9:  0.7756799700906627\n",
            "Precision modelo 9:  0.7413793103448276\n",
            "Accuracy modelo 9:  0.7503300641267446\n"
          ]
        },
        {
          "output_type": "execute_result",
          "data": {
            "text/plain": [
              "array([[7614, 2895],\n",
              "       [2400, 8299]])"
            ]
          },
          "metadata": {},
          "execution_count": 12
        }
      ]
    },
    {
      "cell_type": "code",
      "source": [
        "## Modelo com as covariáveis que possuem valor absoluto de correlação maiores que 0.07 e considerando a alta correlação de GenHlth, PhysHlth, DiffWalk, MentHlth e HighBP\n",
        "\n",
        "model10 = smf.glm(formula = 'Diabetes ~ Age + HighChol + CholCheck + BMI + Smoker + HeartDiseaseorAttack + PhysActivity + Veggies + HvyAlcoholConsump + MentHlth*GenHlth*PhysHlth*DiffWalk*HighBP + Stroke', data = data_train, family=sm.families.Binomial()).fit()\n",
        "\n",
        "y_proba = model10.predict(data_test)\n",
        "y_pred = y_proba.apply(lambda x: 1 if x > 0.5 else 0)\n",
        "\n",
        "print('Recall modelo 10: ', recall_score(data_test['Diabetes'], y_pred))\n",
        "print('Precision modelo 10: ', precision_score(data_test['Diabetes'], y_pred))\n",
        "print('Accuracy modelo 10: ', accuracy_score(data_test['Diabetes'], y_pred))\n",
        "\n",
        "confusion_matrix(y_test, y_pred)"
      ],
      "metadata": {
        "colab": {
          "base_uri": "https://localhost:8080/"
        },
        "id": "2RIhmGCdCI4F",
        "outputId": "655f11a1-a194-475a-d192-1a4d3c2a749f"
      },
      "execution_count": 13,
      "outputs": [
        {
          "output_type": "stream",
          "name": "stdout",
          "text": [
            "Recall modelo 10:  0.7867090382278717\n",
            "Precision modelo 10:  0.7366532469805707\n",
            "Accuracy modelo 10:  0.7505186721991701\n"
          ]
        },
        {
          "output_type": "execute_result",
          "data": {
            "text/plain": [
              "array([[7500, 3009],\n",
              "       [2282, 8417]])"
            ]
          },
          "metadata": {},
          "execution_count": 13
        }
      ]
    },
    {
      "cell_type": "code",
      "source": [
        "## Modelo com as covariáveis que possuem valor absoluto de correlação maiores que 0.07 e considerando a alta correlação de GenHlth, PhysHlth, DiffWalk, MentHlth, HighBP e BMI\n",
        "\n",
        "model11 = smf.glm(formula = 'Diabetes ~ Age + HighChol + CholCheck + Smoker + HeartDiseaseorAttack + PhysActivity + Veggies + HvyAlcoholConsump +  BMI*MentHlth*GenHlth*PhysHlth*DiffWalk*HighBP + Stroke', data = data_train, family=sm.families.Binomial()).fit()\n",
        "\n",
        "y_proba = model11.predict(data_test)\n",
        "y_pred = y_proba.apply(lambda x: 1 if x > 0.5 else 0)\n",
        "\n",
        "print('Recall modelo 11: ', recall_score(data_test['Diabetes'], y_pred))\n",
        "print('Precision modelo 11: ', precision_score(data_test['Diabetes'], y_pred))\n",
        "print('Accuracy modelo 11: ', accuracy_score(data_test['Diabetes'], y_pred))\n",
        "\n",
        "confusion_matrix(y_test, y_pred)"
      ],
      "metadata": {
        "colab": {
          "base_uri": "https://localhost:8080/"
        },
        "id": "rZkGEFD6CfRF",
        "outputId": "b10b10c0-af95-4be0-f284-5d7311e936d7"
      },
      "execution_count": 14,
      "outputs": [
        {
          "output_type": "stream",
          "name": "stdout",
          "text": [
            "Recall modelo 11:  0.7862417048322273\n",
            "Precision modelo 11:  0.7375712406839106\n",
            "Accuracy modelo 11:  0.7510373443983402\n"
          ]
        },
        {
          "output_type": "execute_result",
          "data": {
            "text/plain": [
              "array([[7516, 2993],\n",
              "       [2287, 8412]])"
            ]
          },
          "metadata": {},
          "execution_count": 14
        }
      ]
    },
    {
      "cell_type": "code",
      "source": [
        "## Modelo com as covariáveis que possuem valor absoluto de correlação maiores que 0.07 e considerando a alta correlação de GenHlth, PhysHlth, DiffWalk, MentHlth, HighBP e HeartDiseaseorAttack\n",
        "\n",
        "model12 = smf.glm(formula = 'Diabetes ~ Age + HighChol + CholCheck + BMI + Smoker  + PhysActivity + Veggies + HvyAlcoholConsump +  HeartDiseaseorAttack*MentHlth*GenHlth*PhysHlth*DiffWalk*HighBP + Stroke', data = data_train, family=sm.families.Binomial()).fit()\n",
        "\n",
        "y_proba = model12.predict(data_test)\n",
        "y_pred = y_proba.apply(lambda x: 1 if x > 0.5 else 0)\n",
        "\n",
        "print('Recall modelo 12: ', recall_score(data_test['Diabetes'], y_pred))\n",
        "print('Precision modelo 12: ', precision_score(data_test['Diabetes'], y_pred))\n",
        "print('Accuracy modelo 12: ', accuracy_score(data_test['Diabetes'], y_pred))\n",
        "\n",
        "confusion_matrix(y_test, y_pred)\n",
        "print(model12.summary())"
      ],
      "metadata": {
        "colab": {
          "base_uri": "https://localhost:8080/"
        },
        "id": "2g3ZfWkhCzN_",
        "outputId": "bbb78407-6cdb-49c8-bd19-15123ef4e2fd"
      },
      "execution_count": 4,
      "outputs": [
        {
          "output_type": "stream",
          "name": "stdout",
          "text": [
            "Recall modelo 12:  0.7900738386765118\n",
            "Precision modelo 12:  0.7356191802280045\n",
            "Accuracy modelo 12:  0.7508487363259148\n",
            "                 Generalized Linear Model Regression Results                  \n",
            "==============================================================================\n",
            "Dep. Variable:               Diabetes   No. Observations:                49484\n",
            "Model:                            GLM   Df Residuals:                    49411\n",
            "Model Family:                Binomial   Df Model:                           72\n",
            "Link Function:                  Logit   Scale:                          1.0000\n",
            "Method:                          IRLS   Log-Likelihood:                -25237.\n",
            "Date:                Mon, 10 Jun 2024   Deviance:                       50475.\n",
            "Time:                        12:35:30   Pearson chi2:                 5.05e+04\n",
            "No. Iterations:                     6   Pseudo R-squ. (CS):             0.3067\n",
            "Covariance Type:            nonrobust                                         \n",
            "==================================================================================================================================\n",
            "                                                                     coef    std err          z      P>|z|      [0.025      0.975]\n",
            "----------------------------------------------------------------------------------------------------------------------------------\n",
            "Intercept                                                         -7.9469      0.144    -55.233      0.000      -8.229      -7.665\n",
            "Age                                                                0.1481      0.005     32.083      0.000       0.139       0.157\n",
            "HighChol                                                           0.5836      0.023     25.836      0.000       0.539       0.628\n",
            "CholCheck                                                          1.2898      0.096     13.413      0.000       1.101       1.478\n",
            "BMI                                                                0.0732      0.002     38.978      0.000       0.069       0.077\n",
            "Smoker                                                             0.0498      0.022      2.232      0.026       0.006       0.094\n",
            "PhysActivity                                                      -0.0278      0.025     -1.107      0.268      -0.077       0.021\n",
            "Veggies                                                           -0.1311      0.027     -4.845      0.000      -0.184      -0.078\n",
            "HvyAlcoholConsump                                                 -0.7712      0.058    -13.324      0.000      -0.885      -0.658\n",
            "HeartDiseaseorAttack                                               1.2629      0.317      3.983      0.000       0.641       1.884\n",
            "MentHlth                                                          -0.0162      0.014     -1.121      0.262      -0.044       0.012\n",
            "HeartDiseaseorAttack:MentHlth                                      0.0232      0.056      0.415      0.678      -0.086       0.133\n",
            "GenHlth                                                            0.9304      0.029     32.134      0.000       0.874       0.987\n",
            "HeartDiseaseorAttack:GenHlth                                      -0.2273      0.114     -1.986      0.047      -0.452      -0.003\n",
            "MentHlth:GenHlth                                                  -0.0011      0.005     -0.237      0.813      -0.010       0.008\n",
            "HeartDiseaseorAttack:MentHlth:GenHlth                             -0.0064      0.017     -0.377      0.706      -0.040       0.027\n",
            "PhysHlth                                                           0.0528      0.012      4.543      0.000       0.030       0.076\n",
            "HeartDiseaseorAttack:PhysHlth                                      0.0266      0.040      0.664      0.507      -0.052       0.105\n",
            "MentHlth:PhysHlth                                               8.279e-05      0.001      0.074      0.941      -0.002       0.002\n",
            "HeartDiseaseorAttack:MentHlth:PhysHlth                            -0.0005      0.005     -0.110      0.912      -0.010       0.009\n",
            "GenHlth:PhysHlth                                                  -0.0190      0.003     -5.565      0.000      -0.026      -0.012\n",
            "HeartDiseaseorAttack:GenHlth:PhysHlth                             -0.0023      0.011     -0.212      0.832      -0.023       0.019\n",
            "MentHlth:GenHlth:PhysHlth                                          0.0002      0.000      0.583      0.560      -0.000       0.001\n",
            "HeartDiseaseorAttack:MentHlth:GenHlth:PhysHlth                 -9.969e-06      0.001     -0.008      0.993      -0.002       0.002\n",
            "DiffWalk                                                           1.5242      0.261      5.840      0.000       1.013       2.036\n",
            "HeartDiseaseorAttack:DiffWalk                                     -0.5781      0.712     -0.812      0.417      -1.974       0.818\n",
            "MentHlth:DiffWalk                                                  0.0451      0.030      1.511      0.131      -0.013       0.104\n",
            "HeartDiseaseorAttack:MentHlth:DiffWalk                            -0.0521      0.100     -0.519      0.604      -0.249       0.145\n",
            "GenHlth:DiffWalk                                                  -0.4940      0.086     -5.753      0.000      -0.662      -0.326\n",
            "HeartDiseaseorAttack:GenHlth:DiffWalk                              0.1771      0.224      0.791      0.429      -0.262       0.616\n",
            "MentHlth:GenHlth:DiffWalk                                         -0.0063      0.009     -0.687      0.492      -0.024       0.012\n",
            "HeartDiseaseorAttack:MentHlth:GenHlth:DiffWalk                     0.0131      0.028      0.467      0.641      -0.042       0.068\n",
            "PhysHlth:DiffWalk                                                 -0.0472      0.020     -2.318      0.020      -0.087      -0.007\n",
            "HeartDiseaseorAttack:PhysHlth:DiffWalk                            -0.0142      0.060     -0.238      0.812      -0.131       0.103\n",
            "MentHlth:PhysHlth:DiffWalk                                       8.26e-05      0.002      0.047      0.963      -0.003       0.004\n",
            "HeartDiseaseorAttack:MentHlth:PhysHlth:DiffWalk                    0.0009      0.006      0.142      0.887      -0.011       0.013\n",
            "GenHlth:PhysHlth:DiffWalk                                          0.0168      0.006      2.957      0.003       0.006       0.028\n",
            "HeartDiseaseorAttack:GenHlth:PhysHlth:DiffWalk                    -0.0031      0.015     -0.198      0.843      -0.033       0.027\n",
            "MentHlth:GenHlth:PhysHlth:DiffWalk                                -0.0002      0.000     -0.435      0.663      -0.001       0.001\n",
            "HeartDiseaseorAttack:MentHlth:GenHlth:PhysHlth:DiffWalk         5.672e-05      0.002      0.036      0.971      -0.003       0.003\n",
            "HighBP                                                             1.4951      0.101     14.762      0.000       1.297       1.694\n",
            "HeartDiseaseorAttack:HighBP                                       -0.5234      0.371     -1.411      0.158      -1.250       0.204\n",
            "MentHlth:HighBP                                                    0.0181      0.019      0.939      0.348      -0.020       0.056\n",
            "HeartDiseaseorAttack:MentHlth:HighBP                              -0.0308      0.066     -0.468      0.640      -0.160       0.098\n",
            "GenHlth:HighBP                                                    -0.2775      0.039     -7.192      0.000      -0.353      -0.202\n",
            "HeartDiseaseorAttack:GenHlth:HighBP                                0.0071      0.132      0.054      0.957      -0.252       0.266\n",
            "MentHlth:GenHlth:HighBP                                           -0.0012      0.006     -0.184      0.854      -0.014       0.011\n",
            "HeartDiseaseorAttack:MentHlth:GenHlth:HighBP                       0.0145      0.020      0.725      0.468      -0.025       0.054\n",
            "PhysHlth:HighBP                                                   -0.0458      0.016     -2.884      0.004      -0.077      -0.015\n",
            "HeartDiseaseorAttack:PhysHlth:HighBP                              -0.0112      0.047     -0.237      0.813      -0.104       0.081\n",
            "MentHlth:PhysHlth:HighBP                                           0.0013      0.001      0.866      0.387      -0.002       0.004\n",
            "HeartDiseaseorAttack:MentHlth:PhysHlth:HighBP                      0.0010      0.005      0.194      0.846      -0.009       0.011\n",
            "GenHlth:PhysHlth:HighBP                                            0.0142      0.005      3.076      0.002       0.005       0.023\n",
            "HeartDiseaseorAttack:GenHlth:PhysHlth:HighBP                      -0.0011      0.012     -0.091      0.927      -0.026       0.023\n",
            "MentHlth:GenHlth:PhysHlth:HighBP                                  -0.0004      0.000     -0.941      0.347      -0.001       0.000\n",
            "HeartDiseaseorAttack:MentHlth:GenHlth:PhysHlth:HighBP             -0.0004      0.001     -0.301      0.764      -0.003       0.002\n",
            "DiffWalk:HighBP                                                   -0.7810      0.323     -2.415      0.016      -1.415      -0.147\n",
            "HeartDiseaseorAttack:DiffWalk:HighBP                               0.8590      0.842      1.020      0.308      -0.792       2.510\n",
            "MentHlth:DiffWalk:HighBP                                          -0.0622      0.040     -1.559      0.119      -0.140       0.016\n",
            "HeartDiseaseorAttack:MentHlth:DiffWalk:HighBP                      0.0394      0.115      0.343      0.731      -0.185       0.264\n",
            "GenHlth:DiffWalk:HighBP                                            0.2814      0.106      2.656      0.008       0.074       0.489\n",
            "HeartDiseaseorAttack:GenHlth:DiffWalk:HighBP                      -0.1170      0.262     -0.447      0.655      -0.630       0.396\n",
            "MentHlth:GenHlth:DiffWalk:HighBP                                   0.0123      0.012      1.022      0.307      -0.011       0.036\n",
            "HeartDiseaseorAttack:MentHlth:GenHlth:DiffWalk:HighBP             -0.0157      0.032     -0.489      0.625      -0.079       0.047\n",
            "PhysHlth:DiffWalk:HighBP                                           0.0713      0.026      2.712      0.007       0.020       0.123\n",
            "HeartDiseaseorAttack:PhysHlth:DiffWalk:HighBP                     -0.0397      0.070     -0.570      0.569      -0.176       0.097\n",
            "MentHlth:PhysHlth:DiffWalk:HighBP                                 -0.0014      0.002     -0.616      0.538      -0.006       0.003\n",
            "HeartDiseaseorAttack:MentHlth:PhysHlth:DiffWalk:HighBP             0.0010      0.007      0.140      0.889      -0.013       0.015\n",
            "GenHlth:PhysHlth:DiffWalk:HighBP                                  -0.0209      0.007     -2.865      0.004      -0.035      -0.007\n",
            "HeartDiseaseorAttack:GenHlth:PhysHlth:DiffWalk:HighBP              0.0160      0.018      0.887      0.375      -0.019       0.051\n",
            "MentHlth:GenHlth:PhysHlth:DiffWalk:HighBP                          0.0004      0.001      0.627      0.530      -0.001       0.002\n",
            "HeartDiseaseorAttack:MentHlth:GenHlth:PhysHlth:DiffWalk:HighBP    -0.0002      0.002     -0.127      0.899      -0.004       0.003\n",
            "Stroke                                                             0.2390      0.049      4.920      0.000       0.144       0.334\n",
            "==================================================================================================================================\n"
          ]
        }
      ]
    },
    {
      "cell_type": "code",
      "source": [
        "## Modelo com as covariáveis que possuem valor absoluto de correlação maiores que 0.07 e considerando a alta correlação de GenHlth, PhysHlth, DiffWalk, MentHlth, HighBP e o absoluto de PhysActivity\n",
        "\n",
        "model13 = smf.glm(formula = 'Diabetes ~ Age + HighChol + CholCheck + BMI + Smoker + Veggies + HvyAlcoholConsump + PhysActivity*HeartDiseaseorAttack*MentHlth*GenHlth*PhysHlth*DiffWalk*HighBP + Stroke', data = data_train, family=sm.families.Binomial()).fit()\n",
        "\n",
        "y_proba = model13.predict(data_test)\n",
        "y_pred = y_proba.apply(lambda x: 1 if x > 0.5 else 0)\n",
        "\n",
        "print('Recall modelo 13: ', recall_score(data_test['Diabetes'], y_pred))\n",
        "print('Precision modelo 13: ', precision_score(data_test['Diabetes'], y_pred))\n",
        "print('Accuracy modelo 13: ', accuracy_score(data_test['Diabetes'], y_pred))\n",
        "\n",
        "from sklearn.metrics import f1_score\n",
        "\n",
        "f1 = f1_score(data_test['Diabetes'], y_pred)\n",
        "print(f1)\n",
        "confusion_matrix(y_test, y_pred)"
      ],
      "metadata": {
        "colab": {
          "base_uri": "https://localhost:8080/"
        },
        "id": "KEL_0KDsHtHZ",
        "outputId": "c3fda8da-8459-495f-be83-e82dc3f4f59f"
      },
      "execution_count": 15,
      "outputs": [
        {
          "output_type": "stream",
          "name": "stdout",
          "text": [
            "Recall modelo 13:  0.7878306383774184\n",
            "Precision modelo 13:  0.7365431667249214\n",
            "Accuracy modelo 13:  0.7508015843078084\n",
            "0.7613241204895452\n"
          ]
        },
        {
          "output_type": "execute_result",
          "data": {
            "text/plain": [
              "array([[7494, 3015],\n",
              "       [2270, 8429]])"
            ]
          },
          "metadata": {},
          "execution_count": 15
        }
      ]
    },
    {
      "cell_type": "code",
      "source": [
        "print('AIC do modelo 1: {}'.format(model1.aic))\n",
        "print('AIC do modelo 2: {}'.format(model2.aic))\n",
        "print('AIC do modelo 3: {}'.format(model3.aic))\n",
        "print('AIC do modelo 4: {}'.format(model4.aic))\n",
        "print('AIC do modelo 5: {}'.format(model5.aic))\n",
        "print('AIC do modelo 6: {}'.format(model6.aic))\n",
        "print('AIC do modelo 8: {}'.format(model8.aic))\n",
        "print('AIC do modelo 9: {}'.format(model9.aic))\n",
        "print('AIC do modelo 10: {}'.format(model10.aic))\n",
        "print('AIC do modelo 11: {}'.format(model11.aic))\n",
        "print('AIC do modelo 12: {}'.format(model12.aic))\n",
        "print('AIC do modelo 13: {}'.format(model13.aic))"
      ],
      "metadata": {
        "colab": {
          "base_uri": "https://localhost:8080/"
        },
        "id": "O5RIHlpGVhH4",
        "outputId": "1357f369-080d-42d5-a39f-70f497c6a90b"
      },
      "execution_count": 16,
      "outputs": [
        {
          "output_type": "stream",
          "name": "stdout",
          "text": [
            "AIC do modelo 1: 50818.02961352166\n",
            "AIC do modelo 2: 51381.5049052679\n",
            "AIC do modelo 3: 51135.58023064476\n",
            "AIC do modelo 4: 51234.155230499135\n",
            "AIC do modelo 5: 50915.66409161275\n",
            "AIC do modelo 6: 50774.63664671658\n",
            "AIC do modelo 8: 50711.164281423466\n",
            "AIC do modelo 9: 50713.29040443975\n",
            "AIC do modelo 10: 50640.00613069267\n",
            "AIC do modelo 11: 50637.427817197\n",
            "AIC do modelo 12: 50620.817661985\n",
            "AIC do modelo 13: 50675.68207604068\n"
          ]
        }
      ]
    },
    {
      "cell_type": "code",
      "source": [
        "from sklearn.metrics import roc_curve, roc_auc_score\n",
        "\n",
        "y_proba = model10.predict(data_test)\n",
        "\n",
        "fpr10, tpr10, thresholds = roc_curve(data_test['Diabetes'], y_proba)\n",
        "\n",
        "area10 = roc_auc_score(data_test['Diabetes'], y_proba)\n",
        "\n",
        "plt.plot(fpr10, tpr10)\n",
        "plt.plot([0, 1], [0, 1], 'k--')\n",
        "plt.xlabel('Taxa de Falso Positivo')\n",
        "plt.ylabel('Taxa de Verdadeiro Positivo')\n",
        "plt.title('Curva ROC')\n",
        "plt.show()\n",
        "\n",
        "print(area10)"
      ],
      "metadata": {
        "colab": {
          "base_uri": "https://localhost:8080/",
          "height": 490
        },
        "id": "yZRVW7IuW6Oe",
        "outputId": "68e5aeda-44c1-48f0-feb3-183b9412dd66"
      },
      "execution_count": 17,
      "outputs": [
        {
          "output_type": "display_data",
          "data": {
            "text/plain": [
              "<Figure size 640x480 with 1 Axes>"
            ],
            "image/png": "[encoded data removed]"
          },
          "metadata": {}
        },
        {
          "output_type": "stream",
          "name": "stdout",
          "text": [
            "0.8227247540776407\n"
          ]
        }
      ]
    },
    {
      "cell_type": "code",
      "source": [
        "from sklearn.metrics import roc_curve, roc_auc_score\n",
        "\n",
        "y_proba = model12.predict(data_test)\n",
        "\n",
        "fpr12, tpr12, thresholds = roc_curve(data_test['Diabetes'], y_proba)\n",
        "\n",
        "area12 = roc_auc_score(data_test['Diabetes'], y_proba)\n",
        "\n",
        "plt.plot(fpr12, tpr12)\n",
        "plt.plot([0, 1], [0, 1], 'k--')\n",
        "plt.xlabel('Taxa de Falso Positivo')\n",
        "plt.ylabel('Taxa de Verdadeiro Positivo')\n",
        "plt.title('Curva ROC')\n",
        "plt.show()\n",
        "\n",
        "print(area12)"
      ],
      "metadata": {
        "colab": {
          "base_uri": "https://localhost:8080/",
          "height": 490
        },
        "id": "ksG3k7YneAgU",
        "outputId": "3b7efa6f-b403-4b7f-b4e5-7aaa83a71c2a"
      },
      "execution_count": 18,
      "outputs": [
        {
          "output_type": "display_data",
          "data": {
            "text/plain": [
              "<Figure size 640x480 with 1 Axes>"
            ],
            "image/png": "[encoded data removed]"
          },
          "metadata": {}
        },
        {
          "output_type": "stream",
          "name": "stdout",
          "text": [
            "0.8229606042438924\n"
          ]
        }
      ]
    },
    {
      "cell_type": "code",
      "source": [
        "plt.plot(fpr12, tpr12)\n",
        "plt.plot(fpr10, tpr10)\n",
        "plt.plot([0, 1], [0, 1], 'k--')\n",
        "plt.xlabel('Taxa de Falso Positivo')\n",
        "plt.ylabel('Taxa de Verdadeiro Positivo')\n",
        "plt.title('Curva ROC')\n",
        "plt.legend(['Modelo 12', 'Modelo 10'])\n",
        "plt.text(0.6, 0.3, 'AUC = %0.4f' % area12, color='blue')\n",
        "plt.text(0.6, 0.2, 'AUC = %0.4f' % area10, color='orange')\n",
        "\n",
        "plt.show()"
      ],
      "metadata": {
        "colab": {
          "base_uri": "https://localhost:8080/",
          "height": 472
        },
        "id": "6iP3CESDeUt7",
        "outputId": "22ce2a0b-8abf-4bc9-eaf7-a378c90b9945"
      },
      "execution_count": 19,
      "outputs": [
        {
          "output_type": "display_data",
          "data": {
            "text/plain": [
              "<Figure size 640x480 with 1 Axes>"
            ],
            "image/png": "[encoded data removed]"
          },
          "metadata": {}
        }
      ]
    }
  ]
}