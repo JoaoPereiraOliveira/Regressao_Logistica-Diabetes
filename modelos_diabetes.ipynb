{
  "nbformat": 4,
  "nbformat_minor": 0,
  "metadata": {
    "colab": {
      "provenance": []
    },
    "kernelspec": {
      "name": "python3",
      "display_name": "Python 3"
    },
    "language_info": {
      "name": "python"
    }
  },
  "cells": [
    {
      "cell_type": "code",
      "execution_count": 182,
      "metadata": {
        "id": "l8wq8zmoYQII"
      },
      "outputs": [],
      "source": [
        "import numpy as np\n",
        "import pandas as pd\n",
        "import seaborn as sns\n",
        "import matplotlib.pyplot as plt\n",
        "import seaborn as sns\n",
        "import os\n",
        "from termcolor import colored\n",
        "from scipy import stats\n",
        "import plotly.express as px\n",
        "from plotly.figure_factory import create_scatterplotmatrix\n",
        "from sklearn.linear_model import LogisticRegression\n",
        "from sklearn.model_selection import train_test_split\n",
        "from sklearn.preprocessing import StandardScaler\n",
        "from sklearn import metrics\n",
        "from sklearn.metrics import confusion_matrix\n",
        "from sklearn.metrics import recall_score\n",
        "from sklearn.metrics import precision_score\n",
        "from sklearn.metrics import accuracy_score\n",
        "import statsmodels.api as sm\n",
        "import statsmodels.formula.api as smf"
      ]
    },
    {
      "cell_type": "code",
      "source": [
        "data = pd.read_csv(\"/content/diabetes_data.csv\")\n",
        "\n",
        "X = data.drop('Diabetes', axis=1)\n",
        "y = data['Diabetes']\n",
        "\n",
        "X_train, X_test, y_train, y_test = train_test_split(X, y, test_size=0.3)\n",
        "\n",
        "data_train = pd.concat([X_train, y_train], axis=1)\n",
        "data_test = pd.concat([X_test, y_test], axis=1)"
      ],
      "metadata": {
        "id": "Q_BkkpZQk8xU"
      },
      "execution_count": 183,
      "outputs": []
    },
    {
      "cell_type": "code",
      "source": [
        "## Modelo com todas as covariáveis\n",
        "\n",
        "model1 = smf.glm(formula = 'Diabetes ~ Age + Sex + HighChol + CholCheck + BMI + Smoker + HeartDiseaseorAttack + PhysActivity + Fruits + Veggies + HvyAlcoholConsump + GenHlth + MentHlth + PhysHlth + DiffWalk + Stroke + HighBP', data = data_train, family=sm.families.Binomial()).fit()\n",
        "\n",
        "y_proba = model1.predict(data_test)\n",
        "y_pred = y_proba.apply(lambda x: 1 if x > 0.5 else 0)\n",
        "\n",
        "print('Recall modelo 1: ', recall_score(data_test['Diabetes'], y_pred))\n",
        "print('Precision modelo 1: ', precision_score(data_test['Diabetes'], y_pred))\n",
        "print('Accuracy modelo 1: ', accuracy_score(data_test['Diabetes'], y_pred))\n",
        "\n",
        "confusion_matrix(y_test, y_pred)"
      ],
      "metadata": {
        "colab": {
          "base_uri": "https://localhost:8080/"
        },
        "id": "1Hg9GIwMJ7Ly",
        "outputId": "cffdd755-2491-4016-b34f-1f1dab3f8759"
      },
      "execution_count": 184,
      "outputs": [
        {
          "output_type": "stream",
          "name": "stdout",
          "text": [
            "Recall modelo 1:  0.7728605200945626\n",
            "Precision modelo 1:  0.7403079710144927\n",
            "Accuracy modelo 1:  0.7515560165975104\n"
          ]
        },
        {
          "output_type": "execute_result",
          "data": {
            "text/plain": [
              "array([[7766, 2867],\n",
              "       [2402, 8173]])"
            ]
          },
          "metadata": {},
          "execution_count": 184
        }
      ]
    },
    {
      "cell_type": "code",
      "source": [
        "## Modelo com as covariáveis que possuem valor absoluto de correlação maiores que 0.15\n",
        "\n",
        "model2 = smf.glm(formula = 'Diabetes ~ Age + HighChol + BMI + HeartDiseaseorAttack + PhysActivity + GenHlth + PhysHlth + DiffWalk + HighBP', data = data_train, family=sm.families.Binomial()).fit()\n",
        "\n",
        "y_proba = model2.predict(data_test)\n",
        "y_pred = y_proba.apply(lambda x: 1 if x > 0.5 else 0)\n",
        "\n",
        "print('Recall modelo 2: ', recall_score(data_test['Diabetes'], y_pred))\n",
        "print('Precision modelo 2: ', precision_score(data_test['Diabetes'], y_pred))\n",
        "print('Accuracy modelo 2: ', accuracy_score(data_test['Diabetes'], y_pred))\n",
        "\n",
        "confusion_matrix(y_test, y_pred)"
      ],
      "metadata": {
        "colab": {
          "base_uri": "https://localhost:8080/"
        },
        "id": "UH1Aat5VMsZL",
        "outputId": "8432b4ec-cbdb-4d70-af38-291d7f0aae55"
      },
      "execution_count": 185,
      "outputs": [
        {
          "output_type": "stream",
          "name": "stdout",
          "text": [
            "Recall modelo 2:  0.7672813238770686\n",
            "Precision modelo 2:  0.7366987470492101\n",
            "Accuracy modelo 2:  0.7472180309317239\n"
          ]
        },
        {
          "output_type": "execute_result",
          "data": {
            "text/plain": [
              "array([[7733, 2900],\n",
              "       [2461, 8114]])"
            ]
          },
          "metadata": {},
          "execution_count": 185
        }
      ]
    },
    {
      "cell_type": "code",
      "source": [
        "## Modelo com as covariáveis que possuem valor absoluto de correlação maiores que 0.1\n",
        "\n",
        "model3 = smf.glm(formula = 'Diabetes ~ Age + HighChol + CholCheck + BMI + HeartDiseaseorAttack + PhysActivity + GenHlth + PhysHlth + DiffWalk + Stroke + HighBP', data = data_train, family=sm.families.Binomial()).fit()\n",
        "\n",
        "y_proba = model3.predict(data_test)\n",
        "y_pred = y_proba.apply(lambda x: 1 if x > 0.5 else 0)\n",
        "\n",
        "print('Recall modelo 3: ', recall_score(data_test['Diabetes'], y_pred))\n",
        "print('Precision modelo 3: ', precision_score(data_test['Diabetes'], y_pred))\n",
        "print('Accuracy modelo 3: ', accuracy_score(data_test['Diabetes'], y_pred))\n",
        "\n",
        "confusion_matrix(y_test, y_pred)"
      ],
      "metadata": {
        "colab": {
          "base_uri": "https://localhost:8080/"
        },
        "id": "coQsZA_0M-21",
        "outputId": "037f12c5-c7b7-4153-c94e-642cbc0797fb"
      },
      "execution_count": 186,
      "outputs": [
        {
          "output_type": "stream",
          "name": "stdout",
          "text": [
            "Recall modelo 3:  0.7708747044917258\n",
            "Precision modelo 3:  0.7373371924746743\n",
            "Accuracy modelo 3:  0.7488211995473406\n"
          ]
        },
        {
          "output_type": "execute_result",
          "data": {
            "text/plain": [
              "array([[7729, 2904],\n",
              "       [2423, 8152]])"
            ]
          },
          "metadata": {},
          "execution_count": 186
        }
      ]
    },
    {
      "cell_type": "code",
      "source": [
        "## Modelo com as covariáveis que possuem valor absoluto de correlação maiores que 0.15 e considerando a alta correlação de GenHlth e PhysHlth\n",
        "\n",
        "model4 = smf.glm(formula = 'Diabetes ~ Age + HighChol + BMI + HeartDiseaseorAttack + PhysActivity + GenHlth*PhysHlth + DiffWalk + HighBP', data = data_train, family=sm.families.Binomial()).fit()\n",
        "\n",
        "y_proba = model4.predict(data_test)\n",
        "y_pred = y_proba.apply(lambda x: 1 if x > 0.5 else 0)\n",
        "\n",
        "print('Recall modelo 4: ', recall_score(data_test['Diabetes'], y_pred))\n",
        "print('Precision modelo 4: ', precision_score(data_test['Diabetes'], y_pred))\n",
        "print('Accuracy modelo 4: ', accuracy_score(data_test['Diabetes'], y_pred))\n",
        "\n",
        "confusion_matrix(y_test, y_pred)"
      ],
      "metadata": {
        "colab": {
          "base_uri": "https://localhost:8080/"
        },
        "id": "3OUCKl3yjiDj",
        "outputId": "a5b4ff04-e055-475d-cf2c-553d60d9d833"
      },
      "execution_count": 187,
      "outputs": [
        {
          "output_type": "stream",
          "name": "stdout",
          "text": [
            "Recall modelo 4:  0.7695508274231678\n",
            "Precision modelo 4:  0.7344765342960289\n",
            "Accuracy modelo 4:  0.7463692946058091\n"
          ]
        },
        {
          "output_type": "execute_result",
          "data": {
            "text/plain": [
              "array([[7691, 2942],\n",
              "       [2437, 8138]])"
            ]
          },
          "metadata": {},
          "execution_count": 187
        }
      ]
    },
    {
      "cell_type": "code",
      "source": [
        "## Modelo com as covariáveis que possuem valor absoluto de correlação maiores que 0.07\n",
        "\n",
        "model5 = smf.glm(formula = 'Diabetes ~ Age + HighChol + CholCheck + BMI + Smoker + HeartDiseaseorAttack + PhysActivity + Veggies + HvyAlcoholConsump + GenHlth + MentHlth + PhysHlth + DiffWalk + Stroke + HighBP', data = data_train, family=sm.families.Binomial()).fit()\n",
        "\n",
        "y_proba = model5.predict(data_test)\n",
        "y_pred = y_proba.apply(lambda x: 1 if x > 0.5 else 0)\n",
        "\n",
        "print('Recall modelo 5: ', recall_score(data_test['Diabetes'], y_pred))\n",
        "print('Precision modelo 5: ', precision_score(data_test['Diabetes'], y_pred))\n",
        "print('Accuracy modelo 5: ', accuracy_score(data_test['Diabetes'], y_pred))\n",
        "\n",
        "confusion_matrix(y_test, y_pred)"
      ],
      "metadata": {
        "colab": {
          "base_uri": "https://localhost:8080/"
        },
        "id": "G1HpgBZBsVnw",
        "outputId": "268a2dd7-dddb-4ab8-bba3-9de3b6bc604f"
      },
      "execution_count": 188,
      "outputs": [
        {
          "output_type": "stream",
          "name": "stdout",
          "text": [
            "Recall modelo 5:  0.7728605200945626\n",
            "Precision modelo 5:  0.7395710795403131\n",
            "Accuracy modelo 5:  0.7510373443983402\n"
          ]
        },
        {
          "output_type": "execute_result",
          "data": {
            "text/plain": [
              "array([[7755, 2878],\n",
              "       [2402, 8173]])"
            ]
          },
          "metadata": {},
          "execution_count": 188
        }
      ]
    },
    {
      "cell_type": "code",
      "source": [
        "## Modelo com as covariáveis que possuem valor absoluto de correlação maiores que 0.07 e considerando a alta correlação de GenHlth e PhysHlth\n",
        "\n",
        "model6 = smf.glm(formula = 'Diabetes ~ Age + HighChol + CholCheck + BMI + Smoker + HeartDiseaseorAttack + PhysActivity + Veggies + HvyAlcoholConsump + MentHlth + GenHlth*PhysHlth + DiffWalk + Stroke + HighBP', data = data_train, family=sm.families.Binomial()).fit()\n",
        "\n",
        "y_proba = model6.predict(data_test)\n",
        "y_pred = y_proba.apply(lambda x: 1 if x > 0.5 else 0)\n",
        "\n",
        "print('Recall modelo 6: ', recall_score(data_test['Diabetes'], y_pred))\n",
        "print('Precision modelo 6: ', precision_score(data_test['Diabetes'], y_pred))\n",
        "print('Accuracy modelo 6: ', accuracy_score(data_test['Diabetes'], y_pred))\n",
        "\n",
        "confusion_matrix(y_test, y_pred)"
      ],
      "metadata": {
        "colab": {
          "base_uri": "https://localhost:8080/"
        },
        "id": "6Vrq3VrVzdCv",
        "outputId": "06490a58-6ebe-4465-d7e4-5866fb00e7f3"
      },
      "execution_count": 189,
      "outputs": [
        {
          "output_type": "stream",
          "name": "stdout",
          "text": [
            "Recall modelo 6:  0.775791962174941\n",
            "Precision modelo 6:  0.738168076300162\n",
            "Accuracy modelo 6:  0.7509901923802339\n"
          ]
        },
        {
          "output_type": "execute_result",
          "data": {
            "text/plain": [
              "array([[7723, 2910],\n",
              "       [2371, 8204]])"
            ]
          },
          "metadata": {},
          "execution_count": 189
        }
      ]
    },
    {
      "cell_type": "code",
      "source": [
        "## Modelo com as covariáveis que possuem valor absoluto de correlação maiores que 0.07 e considerando a alta correlação de GenHlth, PhysHlth e DiffWalk\n",
        "\n",
        "model8 = smf.glm(formula = 'Diabetes ~ Age + HighChol + CholCheck + BMI + Smoker + HeartDiseaseorAttack + PhysActivity + Veggies + HvyAlcoholConsump + MentHlth + GenHlth*PhysHlth*DiffWalk + Stroke + HighBP', data = data_train, family=sm.families.Binomial()).fit()\n",
        "\n",
        "y_proba = model8.predict(data_test)\n",
        "y_pred = y_proba.apply(lambda x: 1 if x > 0.5 else 0)\n",
        "\n",
        "print('Recall modelo 8: ', recall_score(data_test['Diabetes'], y_pred))\n",
        "print('Precision modelo 8: ', precision_score(data_test['Diabetes'], y_pred))\n",
        "print('Accuracy modelo 8: ', accuracy_score(data_test['Diabetes'], y_pred))\n",
        "\n",
        "confusion_matrix(y_test, y_pred)"
      ],
      "metadata": {
        "colab": {
          "base_uri": "https://localhost:8080/"
        },
        "id": "Wcc90ivlBo49",
        "outputId": "f42dd6b1-0b83-4f23-ed46-a306c33533f3"
      },
      "execution_count": 190,
      "outputs": [
        {
          "output_type": "stream",
          "name": "stdout",
          "text": [
            "Recall modelo 8:  0.7771158392434988\n",
            "Precision modelo 8:  0.7367099955177051\n",
            "Accuracy modelo 8:  0.750377216144851\n"
          ]
        },
        {
          "output_type": "execute_result",
          "data": {
            "text/plain": [
              "array([[7696, 2937],\n",
              "       [2357, 8218]])"
            ]
          },
          "metadata": {},
          "execution_count": 190
        }
      ]
    },
    {
      "cell_type": "code",
      "source": [
        "## Modelo com as covariáveis que possuem valor absoluto de correlação maiores que 0.07 e considerando a alta correlação de GenHlth, PhysHlth, DiffWalk e MentHlth\n",
        "\n",
        "model9 = smf.glm(formula = 'Diabetes ~ Age + HighChol + CholCheck + BMI + Smoker + HeartDiseaseorAttack + PhysActivity + Veggies + HvyAlcoholConsump + MentHlth*GenHlth*PhysHlth*DiffWalk + Stroke + HighBP', data = data_train, family=sm.families.Binomial()).fit()\n",
        "\n",
        "y_proba = model9.predict(data_test)\n",
        "y_pred = y_proba.apply(lambda x: 1 if x > 0.5 else 0)\n",
        "\n",
        "print('Recall modelo 9: ', recall_score(data_test['Diabetes'], y_pred))\n",
        "print('Precision modelo 9: ', precision_score(data_test['Diabetes'], y_pred))\n",
        "print('Accuracy modelo 9: ', accuracy_score(data_test['Diabetes'], y_pred))\n",
        "\n",
        "confusion_matrix(y_test, y_pred)"
      ],
      "metadata": {
        "colab": {
          "base_uri": "https://localhost:8080/"
        },
        "id": "nX_JQF-JB9QJ",
        "outputId": "9acf20fe-9517-4506-88c0-0e4adb757a02"
      },
      "execution_count": 191,
      "outputs": [
        {
          "output_type": "stream",
          "name": "stdout",
          "text": [
            "Recall modelo 9:  0.7778723404255319\n",
            "Precision modelo 9:  0.7374271627073061\n",
            "Accuracy modelo 9:  0.751131648434553\n"
          ]
        },
        {
          "output_type": "execute_result",
          "data": {
            "text/plain": [
              "array([[7704, 2929],\n",
              "       [2349, 8226]])"
            ]
          },
          "metadata": {},
          "execution_count": 191
        }
      ]
    },
    {
      "cell_type": "code",
      "source": [
        "## Modelo com as covariáveis que possuem valor absoluto de correlação maiores que 0.07 e considerando a alta correlação de GenHlth, PhysHlth, DiffWalk, MentHlth e HighBP\n",
        "\n",
        "model10 = smf.glm(formula = 'Diabetes ~ Age + HighChol + CholCheck + BMI + Smoker + HeartDiseaseorAttack + PhysActivity + Veggies + HvyAlcoholConsump + MentHlth*GenHlth*PhysHlth*DiffWalk*HighBP + Stroke', data = data_train, family=sm.families.Binomial()).fit()\n",
        "\n",
        "y_proba = model10.predict(data_test)\n",
        "y_pred = y_proba.apply(lambda x: 1 if x > 0.5 else 0)\n",
        "\n",
        "print('Recall modelo 10: ', recall_score(data_test['Diabetes'], y_pred))\n",
        "print('Precision modelo 10: ', precision_score(data_test['Diabetes'], y_pred))\n",
        "print('Accuracy modelo 10: ', accuracy_score(data_test['Diabetes'], y_pred))\n",
        "\n",
        "confusion_matrix(y_test, y_pred)"
      ],
      "metadata": {
        "colab": {
          "base_uri": "https://localhost:8080/"
        },
        "id": "2RIhmGCdCI4F",
        "outputId": "e502c64d-389f-4f07-b09b-22692f66b4c1"
      },
      "execution_count": 192,
      "outputs": [
        {
          "output_type": "stream",
          "name": "stdout",
          "text": [
            "Recall modelo 10:  0.7891252955082743\n",
            "Precision modelo 10:  0.7318249583442954\n",
            "Accuracy modelo 10:  0.7506601282534893\n"
          ]
        },
        {
          "output_type": "execute_result",
          "data": {
            "text/plain": [
              "array([[7575, 3058],\n",
              "       [2230, 8345]])"
            ]
          },
          "metadata": {},
          "execution_count": 192
        }
      ]
    },
    {
      "cell_type": "code",
      "source": [
        "## Modelo com as covariáveis que possuem valor absoluto de correlação maiores que 0.07 e considerando a alta correlação de GenHlth, PhysHlth, DiffWalk, MentHlth, HighBP e BMI\n",
        "\n",
        "model11 = smf.glm(formula = 'Diabetes ~ Age + HighChol + CholCheck + Smoker + HeartDiseaseorAttack + PhysActivity + Veggies + HvyAlcoholConsump +  BMI*MentHlth*GenHlth*PhysHlth*DiffWalk*HighBP + Stroke', data = data_train, family=sm.families.Binomial()).fit()\n",
        "\n",
        "y_proba = model11.predict(data_test)\n",
        "y_pred = y_proba.apply(lambda x: 1 if x > 0.5 else 0)\n",
        "\n",
        "print('Recall modelo 11: ', recall_score(data_test['Diabetes'], y_pred))\n",
        "print('Precision modelo 11: ', precision_score(data_test['Diabetes'], y_pred))\n",
        "print('Accuracy modelo 11: ', accuracy_score(data_test['Diabetes'], y_pred))\n",
        "\n",
        "confusion_matrix(y_test, y_pred)"
      ],
      "metadata": {
        "colab": {
          "base_uri": "https://localhost:8080/"
        },
        "id": "rZkGEFD6CfRF",
        "outputId": "1028a755-5fd8-4d99-eedb-5295179a7e39"
      },
      "execution_count": 193,
      "outputs": [
        {
          "output_type": "stream",
          "name": "stdout",
          "text": [
            "Recall modelo 11:  0.7878959810874705\n",
            "Precision modelo 11:  0.7320330346160604\n",
            "Accuracy modelo 11:  0.7504243681629573\n"
          ]
        },
        {
          "output_type": "execute_result",
          "data": {
            "text/plain": [
              "array([[7583, 3050],\n",
              "       [2243, 8332]])"
            ]
          },
          "metadata": {},
          "execution_count": 193
        }
      ]
    },
    {
      "cell_type": "code",
      "source": [
        "## Modelo com as covariáveis que possuem valor absoluto de correlação maiores que 0.07 e considerando a alta correlação de GenHlth, PhysHlth, DiffWalk, MentHlth, HighBP e HeartDiseaseorAttack\n",
        "\n",
        "model12 = smf.glm(formula = 'Diabetes ~ Age + HighChol + CholCheck + BMI + Smoker  + PhysActivity + Veggies + HvyAlcoholConsump +  HeartDiseaseorAttack*MentHlth*GenHlth*PhysHlth*DiffWalk*HighBP + Stroke', data = data_train, family=sm.families.Binomial()).fit()\n",
        "\n",
        "y_proba = model12.predict(data_test)\n",
        "y_pred = y_proba.apply(lambda x: 1 if x > 0.5 else 0)\n",
        "\n",
        "print('Recall modelo 12: ', recall_score(data_test['Diabetes'], y_pred))\n",
        "print('Precision modelo 12: ', precision_score(data_test['Diabetes'], y_pred))\n",
        "print('Accuracy modelo 12: ', accuracy_score(data_test['Diabetes'], y_pred))\n",
        "\n",
        "confusion_matrix(y_test, y_pred)"
      ],
      "metadata": {
        "colab": {
          "base_uri": "https://localhost:8080/"
        },
        "id": "2g3ZfWkhCzN_",
        "outputId": "ce99eae4-3d62-483f-f372-6b51d90997af"
      },
      "execution_count": 194,
      "outputs": [
        {
          "output_type": "stream",
          "name": "stdout",
          "text": [
            "Recall modelo 12:  0.7928132387706855\n",
            "Precision modelo 12:  0.7315242997993194\n",
            "Accuracy modelo 12:  0.7516031686156167\n"
          ]
        },
        {
          "output_type": "execute_result",
          "data": {
            "text/plain": [
              "array([[7556, 3077],\n",
              "       [2191, 8384]])"
            ]
          },
          "metadata": {},
          "execution_count": 194
        }
      ]
    },
    {
      "cell_type": "code",
      "source": [
        "## Modelo com as covariáveis que possuem valor absoluto de correlação maiores que 0.07 e considerando a alta correlação de GenHlth, PhysHlth, DiffWalk, MentHlth, HighBP e o absoluto de PhysActivity\n",
        "\n",
        "model13 = smf.glm(formula = 'Diabetes ~ Age + HighChol + CholCheck + BMI + Smoker + Veggies + HvyAlcoholConsump + PhysActivity*HeartDiseaseorAttack*MentHlth*GenHlth*PhysHlth*DiffWalk*HighBP + Stroke', data = data_train, family=sm.families.Binomial()).fit()\n",
        "\n",
        "y_proba = model13.predict(data_test)\n",
        "y_pred = y_proba.apply(lambda x: 1 if x > 0.5 else 0)\n",
        "\n",
        "print('Recall modelo 13: ', recall_score(data_test['Diabetes'], y_pred))\n",
        "print('Precision modelo 13: ', precision_score(data_test['Diabetes'], y_pred))\n",
        "print('Accuracy modelo 13: ', accuracy_score(data_test['Diabetes'], y_pred))\n",
        "\n",
        "from sklearn.metrics import f1_score\n",
        "\n",
        "f1 = f1_score(data_test['Diabetes'], y_pred)\n",
        "print(f1)\n",
        "confusion_matrix(y_test, y_pred)"
      ],
      "metadata": {
        "colab": {
          "base_uri": "https://localhost:8080/"
        },
        "id": "KEL_0KDsHtHZ",
        "outputId": "9ec0c904-cdd3-4bd5-ab0b-37fe42f01972"
      },
      "execution_count": 216,
      "outputs": [
        {
          "output_type": "stream",
          "name": "stdout",
          "text": [
            "Recall modelo 13:  0.7913947990543735\n",
            "Precision modelo 13:  0.7307893817673768\n",
            "Accuracy modelo 13:  0.7506129762353829\n",
            "0.7598855949516502\n"
          ]
        },
        {
          "output_type": "execute_result",
          "data": {
            "text/plain": [
              "array([[7550, 3083],\n",
              "       [2206, 8369]])"
            ]
          },
          "metadata": {},
          "execution_count": 216
        }
      ]
    },
    {
      "cell_type": "code",
      "source": [
        "print('AIC do modelo 1: {}'.format(model1.aic))\n",
        "print('AIC do modelo 2: {}'.format(model2.aic))\n",
        "print('AIC do modelo 3: {}'.format(model3.aic))\n",
        "print('AIC do modelo 4: {}'.format(model4.aic))\n",
        "print('AIC do modelo 5: {}'.format(model5.aic))\n",
        "print('AIC do modelo 6: {}'.format(model6.aic))\n",
        "print('AIC do modelo 8: {}'.format(model8.aic))\n",
        "print('AIC do modelo 9: {}'.format(model9.aic))\n",
        "print('AIC do modelo 10: {}'.format(model10.aic))\n",
        "print('AIC do modelo 11: {}'.format(model11.aic))\n",
        "print('AIC do modelo 12: {}'.format(model12.aic))\n",
        "print('AIC do modelo 13: {}'.format(model13.aic))"
      ],
      "metadata": {
        "colab": {
          "base_uri": "https://localhost:8080/"
        },
        "id": "O5RIHlpGVhH4",
        "outputId": "a92e7924-bde7-48d7-d1a8-35f603bc1cf0"
      },
      "execution_count": 203,
      "outputs": [
        {
          "output_type": "stream",
          "name": "stdout",
          "text": [
            "AIC do modelo 1: 51100.68980748429\n",
            "AIC do modelo 2: 51608.11792675082\n",
            "AIC do modelo 3: 51376.05139294856\n",
            "AIC do modelo 4: 51456.053333857024\n",
            "AIC do modelo 5: 51196.6799019811\n",
            "AIC do modelo 6: 51048.26126348568\n",
            "AIC do modelo 8: 50999.45411976286\n",
            "AIC do modelo 9: 50997.03371063964\n",
            "AIC do modelo 10: 50924.65900120046\n",
            "AIC do modelo 11: 50933.21653636346\n",
            "AIC do modelo 12: 50903.40292405176\n",
            "AIC do modelo 13: 50968.44585534547\n"
          ]
        }
      ]
    },
    {
      "cell_type": "code",
      "source": [
        "from sklearn.metrics import roc_curve, roc_auc_score\n",
        "\n",
        "y_proba = model10.predict(data_test)\n",
        "\n",
        "fpr10, tpr10, thresholds = roc_curve(data_test['Diabetes'], y_proba)\n",
        "\n",
        "area10 = roc_auc_score(data_test['Diabetes'], y_proba)\n",
        "\n",
        "plt.plot(fpr10, tpr10)\n",
        "plt.plot([0, 1], [0, 1], 'k--')\n",
        "plt.xlabel('Taxa de Falso Positivo')\n",
        "plt.ylabel('Taxa de Verdadeiro Positivo')\n",
        "plt.title('Curva ROC')\n",
        "plt.show()\n",
        "\n",
        "print(area10)"
      ],
      "metadata": {
        "colab": {
          "base_uri": "https://localhost:8080/",
          "height": 490
        },
        "id": "yZRVW7IuW6Oe",
        "outputId": "fb1af20b-aa4b-4ee3-b889-83b4e357588a"
      },
      "execution_count": 210,
      "outputs": [
        {
          "output_type": "display_data",
          "data": {
            "text/plain": [
              "<Figure size 640x480 with 1 Axes>"
            ],
            "image/png": "[encoded data removed]"
          },
          "metadata": {}
        },
        {
          "output_type": "stream",
          "name": "stdout",
          "text": [
            "0.8283993295327741\n"
          ]
        }
      ]
    },
    {
      "cell_type": "code",
      "source": [
        "from sklearn.metrics import roc_curve, roc_auc_score\n",
        "\n",
        "y_proba = model12.predict(data_test)\n",
        "\n",
        "fpr12, tpr12, thresholds = roc_curve(data_test['Diabetes'], y_proba)\n",
        "\n",
        "area12 = roc_auc_score(data_test['Diabetes'], y_proba)\n",
        "\n",
        "plt.plot(fpr12, tpr12)\n",
        "plt.plot([0, 1], [0, 1], 'k--')\n",
        "plt.xlabel('Taxa de Falso Positivo')\n",
        "plt.ylabel('Taxa de Verdadeiro Positivo')\n",
        "plt.title('Curva ROC')\n",
        "plt.show()\n",
        "\n",
        "print(area12)"
      ],
      "metadata": {
        "colab": {
          "base_uri": "https://localhost:8080/",
          "height": 490
        },
        "id": "ksG3k7YneAgU",
        "outputId": "81a0c3f2-253d-45b6-ea5c-70d905dddaa3"
      },
      "execution_count": 211,
      "outputs": [
        {
          "output_type": "display_data",
          "data": {
            "text/plain": [
              "<Figure size 640x480 with 1 Axes>"
            ],
            "image/png": "[encoded data removed]"
          },
          "metadata": {}
        },
        {
          "output_type": "stream",
          "name": "stdout",
          "text": [
            "0.828707900979132\n"
          ]
        }
      ]
    },
    {
      "cell_type": "code",
      "source": [
        "plt.plot(fpr12, tpr12)\n",
        "plt.plot(fpr10, tpr10)\n",
        "plt.plot([0, 1], [0, 1], 'k--')\n",
        "plt.xlabel('Taxa de Falso Positivo')\n",
        "plt.ylabel('Taxa de Verdadeiro Positivo')\n",
        "plt.title('Curva ROC')\n",
        "plt.legend(['Modelo 12', 'Modelo 10'])\n",
        "plt.text(0.6, 0.3, 'AUC = %0.4f' % area12, color='blue')\n",
        "plt.text(0.6, 0.2, 'AUC = %0.4f' % area10, color='orange')\n",
        "\n",
        "plt.show()"
      ],
      "metadata": {
        "colab": {
          "base_uri": "https://localhost:8080/",
          "height": 472
        },
        "id": "6iP3CESDeUt7",
        "outputId": "982f8b49-2cfa-4b80-a26e-72b4239ba4d5"
      },
      "execution_count": 212,
      "outputs": [
        {
          "output_type": "display_data",
          "data": {
            "text/plain": [
              "<Figure size 640x480 with 1 Axes>"
            ],
            "image/png": "[encoded data removed]"
          },
          "metadata": {}
        }
      ]
    }
  ]
}